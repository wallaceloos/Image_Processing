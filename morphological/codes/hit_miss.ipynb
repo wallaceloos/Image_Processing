{
 "cells": [
  {
   "cell_type": "code",
   "execution_count": 1,
   "metadata": {},
   "outputs": [],
   "source": [
    "import numpy as np\n",
    "import cv2\n",
    "import matplotlib.pyplot as plt"
   ]
  },
  {
   "cell_type": "code",
   "execution_count": 2,
   "metadata": {},
   "outputs": [],
   "source": [
    "# 0 = don't care\n",
    "# 1 = foreground\n",
    "#-1 = background\n",
    "def hit_miss_transform(img, b):\n",
    "    ind1 =[b== 1]\n",
    "    ind2 = [b== -1]\n",
    "    \n",
    "    img_pad = np.zeros([img.shape[0]+2, img.shape[1]+2], dtype=np.uint8)\n",
    "    img_pad[1:-1,1:-1] = img\n",
    "\n",
    "    b1 = np.zeros(b.shape, dtype=np.uint8)#foreground\n",
    "    b2 = np.zeros(b.shape, dtype=np.uint8)#background\n",
    "    \n",
    "    b1[ind1] = 1\n",
    "    b2[ind2] = 1\n",
    "       \n",
    "    e1 = cv2.erode(img_pad, b1)\n",
    "    e2 = cv2.erode(cv2.bitwise_not(img_pad), b2)\n",
    "    \n",
    "    c = e1&e2\n",
    "                   \n",
    "    return c[1:-1,1:-1]"
   ]
  },
  {
   "cell_type": "code",
   "execution_count": 3,
   "metadata": {},
   "outputs": [
    {
     "data": {
      "image/png": "[encoded data removed]",
      "text/plain": [
       "<Figure size 1080x1080 with 3 Axes>"
      ]
     },
     "metadata": {},
     "output_type": "display_data"
    }
   ],
   "source": [
    "#example adapted from opencv: https://docs.opencv.org/trunk/db/d06/tutorial_hitOrMiss.html\n",
    "input_image = np.array((\n",
    "    [0,0,0, 0, 0, 0, 0, 0, 0, 0,0,0],\n",
    "    [0,0,0, 255, 255, 255, 255, 0, 0, 255,0,0],\n",
    "    [0,0,0, 255, 255, 255, 255, 0, 0, 0,0,0],\n",
    "    [0,0,0, 255, 255, 255, 255, 255, 0, 0,0,0],\n",
    "    [0,0,0, 0, 255, 0, 0, 0, 0, 0,0,0],\n",
    "    [0,0,0, 0, 255, 0, 0, 0, 255, 255,0,0],\n",
    "    [0,0,0,255, 0, 255, 0, 0, 255, 255,0,0],\n",
    "    [0,0,0, 255, 255, 255, 0, 0, 255, 255,0,0],\n",
    "    [0,0,0, 0, 0, 0, 0, 0, 255, 255,0,0],\n",
    "    [0,0,0, 0, 0, 0, 0, 0, 0, 0,0,0]), dtype=\"uint8\")\n",
    "\n",
    "# 0 = don't care\n",
    "# 1 = foreground\n",
    "#-1 = background\n",
    "\n",
    "kernel = np.array((\n",
    "        [0, 0, 0],\n",
    "        [1, -1, 0],\n",
    "        [1, 1, 0]), dtype=\"int\")\n",
    "\n",
    "\n",
    "a = hit_miss_transform(input_image, kernel)\n",
    "output_image = cv2.morphologyEx(input_image, cv2.MORPH_HITMISS, kernel, cv2.BORDER_CONSTANT  )\n",
    "plt.figure(figsize=(15,15))\n",
    "\n",
    "plt.subplot(1,3,1)\n",
    "plt.axis(\"off\")\n",
    "plt.title(\"Original Image\", fontsize=15)\n",
    "plt.imshow(input_image)\n",
    "plt.subplot(1,3,2)\n",
    "plt.axis(\"off\")\n",
    "plt.title(\"Pattern\", fontsize=15)\n",
    "plt.imshow(kernel)\n",
    "plt.subplot(1,3,3)\n",
    "plt.axis(\"off\")\n",
    "plt.title(\"Output\", fontsize=15)\n",
    "plt.imshow(a)\n",
    "plt.show()"
   ]
  },
  {
   "cell_type": "code",
   "execution_count": 4,
   "metadata": {},
   "outputs": [
    {
     "data": {
      "image/png": "[encoded data removed]",
      "text/plain": [
       "<Figure size 1080x1080 with 3 Axes>"
      ]
     },
     "metadata": {},
     "output_type": "display_data"
    }
   ],
   "source": [
    "kernel = np.array((\n",
    "        [0, 1, 0],\n",
    "        [1, -1, 1],\n",
    "        [0, 1, 0]), dtype=\"int\")\n",
    "\n",
    "\n",
    "a = hit_miss_transform(input_image, kernel)\n",
    "output_image = cv2.morphologyEx(input_image, cv2.MORPH_HITMISS, kernel, cv2.BORDER_CONSTANT  )\n",
    "plt.figure(figsize=(15,15))\n",
    "\n",
    "plt.subplot(1,3,1)\n",
    "plt.axis(\"off\")\n",
    "plt.title(\"Original Image\", fontsize=15)\n",
    "plt.imshow(input_image)\n",
    "plt.subplot(1,3,2)\n",
    "plt.axis(\"off\")\n",
    "plt.title(\"Pattern\", fontsize=15)\n",
    "plt.imshow(kernel)\n",
    "plt.subplot(1,3,3)\n",
    "plt.axis(\"off\")\n",
    "plt.title(\"Output\", fontsize=15)\n",
    "plt.imshow(a)\n",
    "plt.show()"
   ]
  },
  {
   "cell_type": "code",
   "execution_count": 5,
   "metadata": {},
   "outputs": [
    {
     "data": {
      "image/png": "[encoded data removed]",
      "text/plain": [
       "<Figure size 1080x1080 with 3 Axes>"
      ]
     },
     "metadata": {},
     "output_type": "display_data"
    }
   ],
   "source": [
    "kernel = np.array((\n",
    "        [-1, -1,-1],\n",
    "        [-1, 1, 1],\n",
    "        [-1, 1, 1]), dtype=\"int\")\n",
    "\n",
    "\n",
    "a = hit_miss_transform(input_image, kernel)\n",
    "output_image = cv2.morphologyEx(input_image, cv2.MORPH_HITMISS, kernel, cv2.BORDER_CONSTANT  )\n",
    "plt.figure(figsize=(15,15))\n",
    "\n",
    "plt.subplot(1,3,1)\n",
    "plt.axis(\"off\")\n",
    "plt.title(\"Original Image\", fontsize=15)\n",
    "plt.imshow(input_image)\n",
    "plt.subplot(1,3,2)\n",
    "plt.axis(\"off\")\n",
    "plt.title(\"Pattern\", fontsize=15)\n",
    "plt.imshow(kernel)\n",
    "plt.subplot(1,3,3)\n",
    "plt.axis(\"off\")\n",
    "plt.title(\"Output\", fontsize=15)\n",
    "plt.imshow(a)\n",
    "plt.show()"
   ]
  }
 ],
 "metadata": {
  "kernelspec": {
   "display_name": "Python 3",
   "language": "python",
   "name": "python3"
  },
  "language_info": {
   "codemirror_mode": {
    "name": "ipython",
    "version": 3
   },
   "file_extension": ".py",
   "mimetype": "text/x-python",
   "name": "python",
   "nbconvert_exporter": "python",
   "pygments_lexer": "ipython3",
   "version": "3.6.5"
  }
 },
 "nbformat": 4,
 "nbformat_minor": 2
}
